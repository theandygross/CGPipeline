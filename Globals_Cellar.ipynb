{
 "metadata": {
  "name": "",
  "signature": "sha256:62559c71a52bcd806cf3c3ff294e946770f47bbd96b81e8708b8766d0e2c4fd2"
 },
 "nbformat": 3,
 "nbformat_minor": 0,
 "worksheets": [
  {
   "cells": [
    {
     "cell_type": "heading",
     "level": 1,
     "metadata": {},
     "source": [
      "Global Variant Calling Parameters: Cellar"
     ]
    },
    {
     "cell_type": "markdown",
     "metadata": {},
     "source": [
      "This is the configuration file for Cellar our network file system that is used on my local machine as well as our in-house cluster."
     ]
    },
    {
     "cell_type": "markdown",
     "metadata": {},
     "source": [
      "Link to CGHub manifest describing the contents of its database. "
     ]
    },
    {
     "cell_type": "code",
     "collapsed": false,
     "input": [
      "cghub_manifest = 'https://cghub.ucsc.edu/reports/SUMMARY_STATS/LATEST_MANIFEST.tsv'"
     ],
     "language": "python",
     "metadata": {},
     "outputs": [],
     "prompt_number": 3
    },
    {
     "cell_type": "markdown",
     "metadata": {},
     "source": [
      "CGHUB download url"
     ]
    },
    {
     "cell_type": "code",
     "collapsed": false,
     "input": [
      "CGHUB = 'https://cghub.ucsc.edu/cghub/data/analysis/download'"
     ],
     "language": "python",
     "metadata": {},
     "outputs": [],
     "prompt_number": 4
    },
    {
     "cell_type": "markdown",
     "metadata": {},
     "source": [
      "There paths are on the local file-system (cellar)."
     ]
    },
    {
     "cell_type": "code",
     "collapsed": false,
     "input": [
      "BCBIO = '/cellar/users/agross/sources/bcbio_nextgen_local/'\n",
      "DBSNP = BCBIO + 'genomes/Hsapiens/GRCh37/variation/dbsnp_138.vcf.gz'\n",
      "COSMIC = BCBIO + 'genomes/Hsapiens/GRCh37/variation/cosmic-v68-GRCh37.vcf.gz'\n",
      "REFERENCE = BCBIO + 'genomes/Hsapiens/GRCh37/seq/GRCh37.fa'"
     ],
     "language": "python",
     "metadata": {},
     "outputs": [],
     "prompt_number": 5
    },
    {
     "cell_type": "markdown",
     "metadata": {},
     "source": [
      "Path to key for downloading data from CGHub.  You need to contact CGHub to get a key."
     ]
    },
    {
     "cell_type": "code",
     "collapsed": false,
     "input": [
      "KEY = '/cellar/users/agross/.ssh/cghub.key'"
     ],
     "language": "python",
     "metadata": {},
     "outputs": [],
     "prompt_number": 6
    },
    {
     "cell_type": "markdown",
     "metadata": {},
     "source": [
      "Path to MuTect.  I was getting bugs with version 1.1.4 so make sure you use this version."
     ]
    },
    {
     "cell_type": "code",
     "collapsed": false,
     "input": [
      "MUTECT_JAR = BCBIO + 'share/java/mutect/muTect-1.1.5.jar'"
     ],
     "language": "python",
     "metadata": {},
     "outputs": [],
     "prompt_number": 7
    },
    {
     "cell_type": "markdown",
     "metadata": {},
     "source": [
      "Path to SomaticIndelDetector jar. This is in a specific version of GATK, so make sure you are using version 2.2-2."
     ]
    },
    {
     "cell_type": "code",
     "collapsed": false,
     "input": [
      "SID_JAR = '/cellar/users/hcarter/programs/GenomeAnalysisTK-2.2-2/GenomeAnalysisTK.jar'"
     ],
     "language": "python",
     "metadata": {},
     "outputs": [],
     "prompt_number": 8
    },
    {
     "cell_type": "markdown",
     "metadata": {},
     "source": [
      "Path to cache directory.  This is only used in conjuntion with GT-Fuse.  This is important because the bam files can pile up in the cash and eat up all of the space on a hard drive very quickly. "
     ]
    },
    {
     "cell_type": "code",
     "collapsed": false,
     "input": [
      "#CACHE = '/home/centos/cache/fusecache'"
     ],
     "language": "python",
     "metadata": {},
     "outputs": [],
     "prompt_number": 9
    },
    {
     "cell_type": "markdown",
     "metadata": {},
     "source": [
      "Number of processes you want to spawn with the variant calling.  I'm taking a quick and dirty pass here and just running a bunch of bash scripts simultaniously.  At some point we will probably switch to a scheduler, but we don't have one on our Annai VM currently and this seems to be working ok for now."
     ]
    },
    {
     "cell_type": "code",
     "collapsed": false,
     "input": [
      "NUM_PROCESSES = 16"
     ],
     "language": "python",
     "metadata": {},
     "outputs": [],
     "prompt_number": 10
    },
    {
     "cell_type": "markdown",
     "metadata": {},
     "source": [
      "Directory to store the data on whatever machine you are running the scripts on (we use a VM)."
     ]
    },
    {
     "cell_type": "code",
     "collapsed": false,
     "input": [
      "#VM_DIRECTORY = '/home/centos/projects'"
     ],
     "language": "python",
     "metadata": {},
     "outputs": [],
     "prompt_number": 11
    },
    {
     "cell_type": "markdown",
     "metadata": {},
     "source": [
      "Local directory to spit out the bash scripts."
     ]
    },
    {
     "cell_type": "code",
     "collapsed": false,
     "input": [
      "LOCAL_DIRECTORY = '/cellar/users/agross/scripts'"
     ],
     "language": "python",
     "metadata": {},
     "outputs": [],
     "prompt_number": 12
    },
    {
     "cell_type": "markdown",
     "metadata": {},
     "source": [
      "In most situations you can probably get away with using the default java on your system, but we have had conflicts with java-6 and java-7 so I explicity hard code the path to the JDK here."
     ]
    },
    {
     "cell_type": "code",
     "collapsed": false,
     "input": [
      "JAVA = '/cellar/software/jdk1.7.0_45/bin/java'"
     ],
     "language": "python",
     "metadata": {},
     "outputs": [],
     "prompt_number": 13
    },
    {
     "cell_type": "markdown",
     "metadata": {},
     "source": [
      "Command for downloading full BAM files via torrent. gtdownload should be in your path or you can hard-code the path into this command. For my use I am setting two non-default parameters which you may want to alter.  \n",
      "* __inactivity-timeout=720__: This sets the inactivity-timeout to 12 hours.  I use this to kill jobs that are stalled.  I have found that setting this parameter too low kills a lot of downloads when this command is being run in parallel with other downloads.  This is because competition for bandwidth across the rounter can often stall jobs for a while.  \n",
      "* __max-children 1__: This sets the torrent to only use a single thread to download rather than try and multi-thread it.  This seems to maximize throughput when we are running downloads of seperate files in parallel."
     ]
    },
    {
     "cell_type": "code",
     "collapsed": false,
     "input": [
      "GT_DOWNLOAD = 'gtdownload --inactivity-timeout=720 --max-children 1'\n",
      "GT_DOWNLOAD = '{} -c {}'.format(GT_DOWNLOAD, KEY)"
     ],
     "language": "python",
     "metadata": {},
     "outputs": [],
     "prompt_number": 14
    }
   ],
   "metadata": {}
  }
 ]
}