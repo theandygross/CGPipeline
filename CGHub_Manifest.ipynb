{
 "metadata": {
  "name": "",
  "signature": "sha256:8e48969157badcb7faeb4418b2c5c70cea65726ec2a2c8e9c38d51f11232256b"
 },
 "nbformat": 3,
 "nbformat_minor": 0,
 "worksheets": [
  {
   "cells": [
    {
     "cell_type": "heading",
     "level": 1,
     "metadata": {},
     "source": [
      "CGHub Manifest"
     ]
    },
    {
     "cell_type": "markdown",
     "metadata": {},
     "source": [
      "Download and parse out CGHub manifest file. This contains a summary of all of the data in CGHub.  "
     ]
    },
    {
     "cell_type": "code",
     "collapsed": false,
     "input": [
      "import pandas as pd"
     ],
     "language": "python",
     "metadata": {},
     "outputs": [],
     "prompt_number": 1
    },
    {
     "cell_type": "code",
     "collapsed": false,
     "input": [
      "MANIFEST = 'https://cghub.ucsc.edu/reports/SUMMARY_STATS/LATEST_MANIFEST.tsv'"
     ],
     "language": "python",
     "metadata": {},
     "outputs": [],
     "prompt_number": 2
    },
    {
     "cell_type": "code",
     "collapsed": false,
     "input": [
      "cols = ['study','barcode','disease','platform','assembly','state',\n",
      "        'sample_type','library_type','uploaded','analysis_id',\n",
      "        'filename']\n",
      "tcga = pd.read_table(MANIFEST, low_memory=False, usecols=cols)"
     ],
     "language": "python",
     "metadata": {},
     "outputs": [],
     "prompt_number": 3
    },
    {
     "cell_type": "markdown",
     "metadata": {},
     "source": [
      "For now I'm only really looking at the TCGA data run on the Illumina sequencers so I pull out that subset of entries. I'm also only looking at data aligned to the HG19/GR37 genome.  While we could realign the other samples this takes a while and is outside of the scope of our current analysis. "
     ]
    },
    {
     "cell_type": "code",
     "collapsed": false,
     "input": [
      "tcga = tcga[tcga.study == 'TCGA']\n",
      "tcga = tcga[tcga.platform == 'ILLUMINA']\n",
      "tcga = tcga[tcga.assembly.isin(['GRCh37-lite','HG19_Broad_variant','HG19',\n",
      "                    'GRCh37-lite-+-HPV_Redux-build','GRCh37'])]"
     ],
     "language": "python",
     "metadata": {},
     "outputs": [],
     "prompt_number": 4
    },
    {
     "cell_type": "markdown",
     "metadata": {},
     "source": [
      "I load these records into a DataFrame with a 3-level hierarchical index. This index contains most of the information we will need for queries, while the columns give the information needed to retreive the files. Some patients have had the same assay preformed multiple times, in this case I take the most recent one. "
     ]
    },
    {
     "cell_type": "code",
     "collapsed": false,
     "input": [
      "tcga = tcga[tcga.barcode.notnull()]\n",
      "tcga['patient'] = tcga['barcode'].map(lambda s: s[:12])\n",
      "tcga = tcga[tcga.state == 'Live']\n",
      "tcga = tcga[tcga.assembly != 'unaligned']\n",
      "tcga = tcga.sort('uploaded')\n",
      "tcga = tcga.drop_duplicates(subset=['patient', 'sample_type','library_type'], \n",
      "                            take_last=True)\n",
      "tcga = tcga.set_index(['patient', 'sample_type','library_type'])"
     ],
     "language": "python",
     "metadata": {},
     "outputs": [],
     "prompt_number": 5
    },
    {
     "cell_type": "code",
     "collapsed": false,
     "input": [
      "tcga.head().T"
     ],
     "language": "python",
     "metadata": {},
     "outputs": [
      {
       "html": [
        "<div style=\"max-height:1000px;max-width:1500px;overflow:auto;\">\n",
        "<table border=\"1\" class=\"dataframe\">\n",
        "  <thead>\n",
        "    <tr>\n",
        "      <th>patient</th>\n",
        "      <th>TCGA-66-2768</th>\n",
        "      <th>TCGA-64-1677</th>\n",
        "      <th colspan=\"2\" halign=\"left\">TCGA-67-3772</th>\n",
        "      <th>TCGA-64-1677</th>\n",
        "    </tr>\n",
        "    <tr>\n",
        "      <th>sample_type</th>\n",
        "      <th>TP</th>\n",
        "      <th>TP</th>\n",
        "      <th>NB</th>\n",
        "      <th>TP</th>\n",
        "      <th>NB</th>\n",
        "    </tr>\n",
        "    <tr>\n",
        "      <th>library_type</th>\n",
        "      <th>WXS</th>\n",
        "      <th>WXS</th>\n",
        "      <th>WXS</th>\n",
        "      <th>WXS</th>\n",
        "      <th>WXS</th>\n",
        "    </tr>\n",
        "  </thead>\n",
        "  <tbody>\n",
        "    <tr>\n",
        "      <th>study</th>\n",
        "      <td>                                 TCGA</td>\n",
        "      <td>                                    TCGA</td>\n",
        "      <td>                                    TCGA</td>\n",
        "      <td>                                    TCGA</td>\n",
        "      <td>                                    TCGA</td>\n",
        "    </tr>\n",
        "    <tr>\n",
        "      <th>barcode</th>\n",
        "      <td>         TCGA-66-2768-01A-01W-0877-08</td>\n",
        "      <td>            TCGA-64-1677-01A-01W-0928-08</td>\n",
        "      <td>            TCGA-67-3772-10A-01W-0928-08</td>\n",
        "      <td>            TCGA-67-3772-01A-01W-0928-08</td>\n",
        "      <td>            TCGA-64-1677-10A-01W-0928-08</td>\n",
        "    </tr>\n",
        "    <tr>\n",
        "      <th>disease</th>\n",
        "      <td>                                 LUSC</td>\n",
        "      <td>                                    LUAD</td>\n",
        "      <td>                                    LUAD</td>\n",
        "      <td>                                    LUAD</td>\n",
        "      <td>                                    LUAD</td>\n",
        "    </tr>\n",
        "    <tr>\n",
        "      <th>platform</th>\n",
        "      <td>                             ILLUMINA</td>\n",
        "      <td>                                ILLUMINA</td>\n",
        "      <td>                                ILLUMINA</td>\n",
        "      <td>                                ILLUMINA</td>\n",
        "      <td>                                ILLUMINA</td>\n",
        "    </tr>\n",
        "    <tr>\n",
        "      <th>assembly</th>\n",
        "      <td>                   HG19_Broad_variant</td>\n",
        "      <td>                      HG19_Broad_variant</td>\n",
        "      <td>                      HG19_Broad_variant</td>\n",
        "      <td>                      HG19_Broad_variant</td>\n",
        "      <td>                      HG19_Broad_variant</td>\n",
        "    </tr>\n",
        "    <tr>\n",
        "      <th>filename</th>\n",
        "      <td>     TCGA-66-2768-01A-01W-0877-08.bam</td>\n",
        "      <td> C347.TCGA-64-1677-01A-01W-0928-08.1.bam</td>\n",
        "      <td> C347.TCGA-67-3772-10A-01W-0928-08.1.bam</td>\n",
        "      <td> C347.TCGA-67-3772-01A-01W-0928-08.1.bam</td>\n",
        "      <td> C347.TCGA-64-1677-10A-01W-0928-08.1.bam</td>\n",
        "    </tr>\n",
        "    <tr>\n",
        "      <th>analysis_id</th>\n",
        "      <td> fb280562-6067-4a92-9c6f-fbadbb6a748e</td>\n",
        "      <td>    709b873d-c4eb-4dc2-a1dd-e486a6aca50f</td>\n",
        "      <td>    f2a2d424-0908-4589-b36c-cabf54c9920a</td>\n",
        "      <td>    83024fb3-5782-4674-8e4c-83126cffa1a3</td>\n",
        "      <td>    975c6317-99a8-4b0c-b70c-1774e42401d6</td>\n",
        "    </tr>\n",
        "    <tr>\n",
        "      <th>uploaded</th>\n",
        "      <td>                           2010-08-27</td>\n",
        "      <td>                              2010-12-01</td>\n",
        "      <td>                              2010-12-01</td>\n",
        "      <td>                              2010-12-01</td>\n",
        "      <td>                              2010-12-01</td>\n",
        "    </tr>\n",
        "    <tr>\n",
        "      <th>state</th>\n",
        "      <td>                                 Live</td>\n",
        "      <td>                                    Live</td>\n",
        "      <td>                                    Live</td>\n",
        "      <td>                                    Live</td>\n",
        "      <td>                                    Live</td>\n",
        "    </tr>\n",
        "  </tbody>\n",
        "</table>\n",
        "</div>"
       ],
       "metadata": {},
       "output_type": "pyout",
       "prompt_number": 6,
       "text": [
        "patient                               TCGA-66-2768  \\\n",
        "sample_type                                     TP   \n",
        "library_type                                   WXS   \n",
        "study                                         TCGA   \n",
        "barcode               TCGA-66-2768-01A-01W-0877-08   \n",
        "disease                                       LUSC   \n",
        "platform                                  ILLUMINA   \n",
        "assembly                        HG19_Broad_variant   \n",
        "filename          TCGA-66-2768-01A-01W-0877-08.bam   \n",
        "analysis_id   fb280562-6067-4a92-9c6f-fbadbb6a748e   \n",
        "uploaded                                2010-08-27   \n",
        "state                                         Live   \n",
        "\n",
        "patient                                  TCGA-64-1677  \\\n",
        "sample_type                                        TP   \n",
        "library_type                                      WXS   \n",
        "study                                            TCGA   \n",
        "barcode                  TCGA-64-1677-01A-01W-0928-08   \n",
        "disease                                          LUAD   \n",
        "platform                                     ILLUMINA   \n",
        "assembly                           HG19_Broad_variant   \n",
        "filename      C347.TCGA-64-1677-01A-01W-0928-08.1.bam   \n",
        "analysis_id      709b873d-c4eb-4dc2-a1dd-e486a6aca50f   \n",
        "uploaded                                   2010-12-01   \n",
        "state                                            Live   \n",
        "\n",
        "patient                                  TCGA-67-3772  \\\n",
        "sample_type                                        NB   \n",
        "library_type                                      WXS   \n",
        "study                                            TCGA   \n",
        "barcode                  TCGA-67-3772-10A-01W-0928-08   \n",
        "disease                                          LUAD   \n",
        "platform                                     ILLUMINA   \n",
        "assembly                           HG19_Broad_variant   \n",
        "filename      C347.TCGA-67-3772-10A-01W-0928-08.1.bam   \n",
        "analysis_id      f2a2d424-0908-4589-b36c-cabf54c9920a   \n",
        "uploaded                                   2010-12-01   \n",
        "state                                            Live   \n",
        "\n",
        "patient                                                \\\n",
        "sample_type                                        TP   \n",
        "library_type                                      WXS   \n",
        "study                                            TCGA   \n",
        "barcode                  TCGA-67-3772-01A-01W-0928-08   \n",
        "disease                                          LUAD   \n",
        "platform                                     ILLUMINA   \n",
        "assembly                           HG19_Broad_variant   \n",
        "filename      C347.TCGA-67-3772-01A-01W-0928-08.1.bam   \n",
        "analysis_id      83024fb3-5782-4674-8e4c-83126cffa1a3   \n",
        "uploaded                                   2010-12-01   \n",
        "state                                            Live   \n",
        "\n",
        "patient                                  TCGA-64-1677  \n",
        "sample_type                                        NB  \n",
        "library_type                                      WXS  \n",
        "study                                            TCGA  \n",
        "barcode                  TCGA-64-1677-10A-01W-0928-08  \n",
        "disease                                          LUAD  \n",
        "platform                                     ILLUMINA  \n",
        "assembly                           HG19_Broad_variant  \n",
        "filename      C347.TCGA-64-1677-10A-01W-0928-08.1.bam  \n",
        "analysis_id      975c6317-99a8-4b0c-b70c-1774e42401d6  \n",
        "uploaded                                   2010-12-01  \n",
        "state                                            Live  "
       ]
      }
     ],
     "prompt_number": 6
    },
    {
     "cell_type": "heading",
     "level": 4,
     "metadata": {},
     "source": [
      "Form lists of matched analyses."
     ]
    },
    {
     "cell_type": "markdown",
     "metadata": {},
     "source": [
      "In TCGA at least most patients are run against a blood control.  In addition some have additional metastatic samples and/or adjacent normal tissue sameples. Here I'm parsing out the manifest to form lists of the data availiblity and paired samples.  Here I am doing this for the patients with exome data, but you could also look at the other measurment platforms."
     ]
    },
    {
     "cell_type": "markdown",
     "metadata": {},
     "source": [
      "Form tissue type lists"
     ]
    },
    {
     "cell_type": "code",
     "collapsed": false,
     "input": [
      "exome = tcga.xs('WXS', axis=0, level='library_type')\n",
      "\n",
      "pats = set(tcga.index.get_level_values('patient'))\n",
      "\n",
      "tumor = exome.xs('TP', level='sample_type')\n",
      "tumor = set(tumor.index.get_level_values('patient'))\n",
      "\n",
      "normal = exome.xs('NB', level='sample_type')\n",
      "normal = set(normal.index.get_level_values('patient'))\n",
      "\n",
      "normal_tissue = exome.xs('NT', level='sample_type')\n",
      "normal_tissue = set(normal_tissue.index.get_level_values('patient'))\n",
      "\n",
      "metastatic = exome.xs('TM', level='sample_type')\n",
      "metastatic = set(metastatic.index.get_level_values('patient'))\n",
      "\n",
      "blood = exome.xs('TB', level='sample_type')\n",
      "blood = set(blood.index.get_level_values('patient'))"
     ],
     "language": "python",
     "metadata": {},
     "outputs": [],
     "prompt_number": 9
    },
    {
     "cell_type": "markdown",
     "metadata": {},
     "source": [
      "Compile lists of matched samples"
     ]
    },
    {
     "cell_type": "code",
     "collapsed": false,
     "input": [
      "tn_blood  = [i for i in pats if i in tumor and i in normal]\n",
      "tn_tissue  = [i for i in pats if i in tumor and i in normal_tissue]\n",
      "met_norm = [i for i in pats if i in normal and i in metastatic]\n",
      "blood_tumor = [i for i in pats if i in normal_tissue and i in blood]\n",
      "\n",
      "len(pats), len(tn_blood), len(tn_tissue), len(met_norm), len(blood_tumor)"
     ],
     "language": "python",
     "metadata": {},
     "outputs": [
      {
       "metadata": {},
       "output_type": "pyout",
       "prompt_number": 10,
       "text": [
        "(9759, 7002, 1689, 359, 18)"
       ]
      }
     ],
     "prompt_number": 10
    },
    {
     "cell_type": "markdown",
     "metadata": {},
     "source": [
      "These are the patients with tumor, normal tissue, and blood samples."
     ]
    },
    {
     "cell_type": "code",
     "collapsed": false,
     "input": [
      "triplets = [i for i in pats if i in normal and i in normal_tissue and i in tumor]\n",
      "len(triplets)"
     ],
     "language": "python",
     "metadata": {},
     "outputs": [
      {
       "metadata": {},
       "output_type": "pyout",
       "prompt_number": 11,
       "text": [
        "450"
       ]
      }
     ],
     "prompt_number": 11
    }
   ],
   "metadata": {}
  }
 ]
}