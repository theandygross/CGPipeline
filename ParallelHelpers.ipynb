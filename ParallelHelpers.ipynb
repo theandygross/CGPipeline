{
 "metadata": {
  "name": "",
  "signature": "sha256:036e418e9e051edf21893f1797866324ab55f8286a4cd5f78f7dc7e9a23111bd"
 },
 "nbformat": 3,
 "nbformat_minor": 0,
 "worksheets": [
  {
   "cells": [
    {
     "cell_type": "heading",
     "level": 1,
     "metadata": {},
     "source": [
      "ParallelHelpers"
     ]
    },
    {
     "cell_type": "markdown",
     "metadata": {},
     "source": [
      "Here I'm including a set of helper functions for running things in parallel.  "
     ]
    },
    {
     "cell_type": "markdown",
     "metadata": {},
     "source": [
      "Naive method which just splits the patients and runs a set of backgrounded jobs.  Works ok, but does not ballence across cores, so one subprocess may finish way slower than the others."
     ]
    },
    {
     "cell_type": "code",
     "collapsed": false,
     "input": [
      "import os as os"
     ],
     "language": "python",
     "metadata": {},
     "outputs": [],
     "prompt_number": 5
    },
    {
     "cell_type": "code",
     "collapsed": false,
     "input": [
      "def generate_super_script(patients, call_fx, script_dir='./', remote_out='./', \n",
      "                          threads=16):\n",
      "    '''\n",
      "    Parses calls out to one script for each process you want to run.\n",
      "    Then builds a driver script to run them all in parallel.\n",
      "    Saves the files to the output directory.  The threads are names \n",
      "    thread_n.sh and the driver is named driver.sh.\n",
      "    '''\n",
      "    if not os.path.isdir(script_dir):\n",
      "        os.makedirs(script_dir)\n",
      "    \n",
      "    for i in range(threads):\n",
      "        calls = ';\\n\\n'.join([call_fx(pat) for pat in patients[i::threads]])\n",
      "        f = open('{}/thread_{}.sh'.format(script_dir, i), 'wb')\n",
      "        f.write(calls)\n",
      "        f.close()\n",
      "        \n",
      "    super_script = 'mkdir {}\\n'.format(remote_out)\n",
      "    threads = ['bash thread_{}.sh &'.format(i) for i in range(threads)]\n",
      "    super_script += '\\n'.join(threads)\n",
      "    \n",
      "    f = open('{}/driver.sh'.format(script_dir), 'wb')\n",
      "    f.write(super_script)\n",
      "    f.close()"
     ],
     "language": "python",
     "metadata": {},
     "outputs": [],
     "prompt_number": 1
    },
    {
     "cell_type": "code",
     "collapsed": false,
     "input": [
      "def generate_sge(patients, call_fx, script_dir='./', threads=16):\n",
      "    print 'Writing scripts and SGE driver to {}'.format(script_dir)\n",
      "    if not os.path.isdir(script_dir):\n",
      "        os.makedirs(script_dir)\n",
      "\n",
      "    for i,pat in enumerate(patients):\n",
      "        call = call_fx(pat)\n",
      "        f = open('{}/thread_{}.sh'.format(script_dir, i+1), 'wb')\n",
      "        f.write(call)\n",
      "        f.close()\n",
      "    sge =  ['#! /bin/csh']\n",
      "    sge += ['#$ -S /bin/csh']\n",
      "    sge += ['#$ -o {}'.format(script_dir)]\n",
      "    sge += ['#$ -e {}'.format(script_dir)]\n",
      "    sge += ['#$ -cwd']\n",
      "    sge += ['#$ -t 1-{}'.format(len(patients) + 1)]\n",
      "    sge += ['#$ -tc {}'.format(threads)]\n",
      "    \n",
      "    sge += ['hostname']\n",
      "    sge += ['date']\n",
      "    sge += ['bash {}/thread_$SGE_TASK_ID.sh'.format(script_dir)]\n",
      "    sge += ['date']\n",
      "    \n",
      "    sge = '\\n'.join(sge)\n",
      "    \n",
      "    f = open('{}/sge.sh'.format(script_dir), 'wb')\n",
      "    f.write(sge)\n",
      "    f.close()       \n",
      "    "
     ],
     "language": "python",
     "metadata": {},
     "outputs": [],
     "prompt_number": 4
    }
   ],
   "metadata": {}
  }
 ]
}