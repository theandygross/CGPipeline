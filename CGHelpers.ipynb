{
 "metadata": {
  "name": "",
  "signature": "sha256:3ca8ce97fab6fc6e05e6206649074075488e87d36bffa8be234bf1357d3f388d"
 },
 "nbformat": 3,
 "nbformat_minor": 0,
 "worksheets": [
  {
   "cells": [
    {
     "cell_type": "heading",
     "level": 1,
     "metadata": {},
     "source": [
      "CGHelpers"
     ]
    },
    {
     "cell_type": "code",
     "collapsed": false,
     "input": [
      "import pandas as pd\n",
      "import numpy as np"
     ],
     "language": "python",
     "metadata": {},
     "outputs": [],
     "prompt_number": 3
    },
    {
     "cell_type": "heading",
     "level": 3,
     "metadata": {},
     "source": [
      "CGFile object"
     ]
    },
    {
     "cell_type": "markdown",
     "metadata": {},
     "source": [
      "This is our main abstraction for dealing with files from CGhub.  Here we store a number of attributes that are important for retreiving, and cleaning up files from CGHub.  The process for downloading and cleaning up files is different using the standard GTDownload mechansim or the proprietary GTFuse functionality available on the Annai machine.  This object is meant to abtract away the housekeeping required for different methods of downloading the data."
     ]
    },
    {
     "cell_type": "code",
     "collapsed": false,
     "input": [
      "class CGFile(object):\n",
      "    gt_fuse = None\n",
      "    cghub = None\n",
      "    cache = None\n",
      "\n",
      "    def __init__(self, cg_vec):\n",
      "        self.barcode = cg_vec.name[0]\n",
      "        \n",
      "        self.sample_type = cg_vec.name[1]\n",
      "        self.library_type = cg_vec.name[2]\n",
      "        self.cg_vec = cg_vec\n",
      "        \n",
      "        self.analysis_id = cg_vec['analysis_id']\n",
      "        self.filename = cg_vec['filename']\n",
      "        \n",
      "        self.mount_loc = None\n",
      "        self.bam = None\n",
      "        \n",
      "    def mount(self, directory='.'):\n",
      "        self.mount_loc = '{}/{}_{}_{}'.format(directory, self.barcode, \n",
      "                                              self.sample_type, self.library_type)\n",
      "        self.bam = '{}/{}/{}'.format(self.mount_loc, self.analysis_id, self.filename)\n",
      "        \n",
      "        init_folder = 'mkdir {}'.format(self.mount_loc)\n",
      "        mount_file = '{} {}/{} {}'.format(self.gt_fuse, self.cghub, self.analysis_id, \n",
      "                                          self.mount_loc)\n",
      "        return [init_folder, mount_file]\n",
      "    \n",
      "    def unmount(self):\n",
      "        unmount_folder = 'fusermount -u {}'.format(self.mount_loc) \n",
      "        clear_cache = 'rm -rf {}/{}*'.format(self.cache, self.analysis_id)\n",
      "        clean_folder = 'rm -rf {}'.format(self.mount_loc)\n",
      "        return [unmount_folder, clear_cache, clean_folder]\n",
      "    \n",
      "    def download(self, directory='.'):\n",
      "        self.file_loc = '{}/{}_{}_{}'.format(directory, self.barcode, \n",
      "                                             self.sample_type, self.library_type)\n",
      "        self.bam = '{}/{}/{}'.format(self.file_loc, self.analysis_id, self.filename)\n",
      "        \n",
      "        init_folder = 'mkdir {}'.format(self.file_loc)\n",
      "        download_file = '{} {}/{} -p {}'.format(self.gt_download, self.cghub, \n",
      "                                                self.analysis_id, self.file_loc)\n",
      "        return [init_folder, download_file]\n",
      "    \n",
      "    def clean_download(self):\n",
      "        clean_folder = 'rm -rf {}'.format(self.file_loc)\n",
      "        return [clean_folder]"
     ],
     "language": "python",
     "metadata": {},
     "outputs": [],
     "prompt_number": 1
    },
    {
     "cell_type": "heading",
     "level": 3,
     "metadata": {},
     "source": [
      "MutationCalling"
     ]
    },
    {
     "cell_type": "markdown",
     "metadata": {},
     "source": [
      "This is an object to handing doing variant calling on matched tumor-normal genomes.  We run MuTect and SomaticIndelDetector for SNVs and indels, respectively."
     ]
    },
    {
     "cell_type": "code",
     "collapsed": false,
     "input": [
      "def sort_regions(regions):\n",
      "    '''\n",
      "    Helper function to sort regions in the order expected by the Broad tools.  Takes\n",
      "    in a list of regions and returns them in sorted order, whith X and Y at the end.\n",
      "    '''\n",
      "    ss = map(lambda s: (int(s.replace('X', '24').replace('Y','25').split(':')[0]),\n",
      "               int(s.split(':')[1].split('-')[0])), regions)\n",
      "    ss = pd.Series(ss)\n",
      "    regions = list(np.array(regions)[list(ss.argsort())])\n",
      "    return regions"
     ],
     "language": "python",
     "metadata": {},
     "outputs": [],
     "prompt_number": 2
    },
    {
     "cell_type": "code",
     "collapsed": false,
     "input": [
      "class MutationCalling(object):\n",
      "    def __init__(self, java, mutect_jar, indel_jar, reference, dbsnp, cosmic):\n",
      "        self.mutect = '{} -Xmx32g -jar {}'.format(java, mutect_jar)\n",
      "        self.mutect_args = {'analysis_type': 'MuTect',\n",
      "                              'reference_sequence': reference,\n",
      "                              'dbsnp' : dbsnp,\n",
      "                              'cosmic': cosmic,\n",
      "                              }\n",
      "\n",
      "        self.somaticIndelDetector = '{} -Xmx32g -jar {}'.format(java, indel_jar)\n",
      "        self.indel_args = {'analysis_type': 'SomaticIndelDetector',\n",
      "                           'reference_sequence': reference,\n",
      "                           }\n",
      "        \n",
      "    def call_snps(self, tumor, normal, intervals, directory='.', out='tmp'):\n",
      "        args = self.mutect_args\n",
      "        out_stub = '{}/{}/{}_'.format(directory, out, tumor.barcode)\n",
      "        args['out'] = out_stub + 'call_stats.txt'\n",
      "        args['performanceLog'] = out_stub + 'mutect_log.txt'\n",
      "        args['coverage_file'] = out_stub + 'coverage.wig.txt'\n",
      "        \n",
      "        arglist  = [''] + [k + ' ' + v for k,v in args.iteritems()]\n",
      "        arglist += ['input_file:normal ' + normal.bam, 'input_file:tumor ' + \n",
      "                    tumor.bam] \n",
      "        arglist += ['intervals {}'.format(r) for r in intervals]\n",
      "        mutect_call = self.mutect + ' --'.join(arglist)\n",
      "        return [mutect_call]\n",
      "    \n",
      "    def call_indels(self, tumor, normal, intervals, directory='.', out='tmp'):\n",
      "        args = self.indel_args\n",
      "        out_stub = '{}/{}/{}_'.format(directory, out, tumor.barcode)\n",
      "        args['out'] = out_stub + 'indels.txt'\n",
      "        args['performanceLog'] = out_stub + 'indel_log.txt'\n",
      "        \n",
      "        arglist  = [''] + [k + ' ' + v for k,v in args.iteritems()]\n",
      "        arglist += ['input_file:normal ' + normal.bam, 'input_file:tumor ' + \n",
      "                    tumor.bam] \n",
      "        arglist += ['intervals {}'.format(r) for r in intervals]\n",
      "        indel_call = self.somaticIndelDetector + ' --'.join(arglist)\n",
      "        return [indel_call]\n",
      "    \n",
      "    def mutation_caller(self, manifest, regions=[], normal_code='NB', \n",
      "                        tumor_code='TP', library_type='WGS', directory='', \n",
      "                        out='', local_dir=''):\n",
      "        regions = sort_regions(regions)\n",
      "        def call_wrapper(pat):\n",
      "            normal = CGFile(manifest.ix[pat, normal_code, library_type])\n",
      "            tumor = CGFile(manifest.ix[pat, tumor_code, library_type])\n",
      "\n",
      "            call = ['echo running patient {} at `date`'.format(pat)]\n",
      "            call += normal.download(directory)\n",
      "            call += tumor.download(directory)\n",
      "            call += self.call_snps(tumor, normal, regions, directory, out)\n",
      "            call += self.call_indels(tumor, normal, regions, directory, out)\n",
      "            call += ['rm -rf {}'.format(normal.file_loc)]\n",
      "            call += ['rm -rf {}'.format(tumor.file_loc)]\n",
      "            call += ['mv {}/{}*.txt* {}'.format(directory, pat, local_dir)]\n",
      "            call += ['echo finished patient {} at `date`'.format(pat)]\n",
      "            call = ';\\n'.join(call)\n",
      "            return call\n",
      "        return call_wrapper"
     ],
     "language": "python",
     "metadata": {},
     "outputs": [],
     "prompt_number": 4
    },
    {
     "cell_type": "heading",
     "level": 3,
     "metadata": {},
     "source": [
      "Samtools"
     ]
    },
    {
     "cell_type": "markdown",
     "metadata": {},
     "source": [
      "We don't really have any globals here, so I am not putting these functions into a class."
     ]
    },
    {
     "cell_type": "code",
     "collapsed": false,
     "input": [
      "def get_sam_call(data, sub_maf, directory='.', out='.'):\n",
      "    sam_call = 'samtools view {}'.format(data.bam)\n",
      "    chr_prefix = 'chr' if data.cg_vec.ix['assembly'] in ['HG19'] else ''\n",
      "    for g,mutation in sub_maf.iterrows():\n",
      "        c = str(mutation['Chromosome'])\n",
      "        if c not in map(str, range(1,23)) + ['X']:\n",
      "            continue\n",
      "        p = int(mutation['Start_position'])\n",
      "        sam_call = sam_call + ' {}{}:{}-{}'.format(chr_prefix,c,p,p)\n",
      "    sam_call =  sam_call + ' > {}/{}/{}_{}'.format(directory, out, data.barcode, \n",
      "                                                   data.library_type)\n",
      "    return [sam_call]    "
     ],
     "language": "python",
     "metadata": {},
     "outputs": [],
     "prompt_number": 7
    },
    {
     "cell_type": "code",
     "collapsed": false,
     "input": [
      "def region_subsetter(maf, manifest, tissue_code='TP', library_type='RNA-Seq', \n",
      "                     directory='', out=''):\n",
      "    def call_wrapper(pat, genes=None):\n",
      "        data = CGFile(manifest.ix[pat, tissue_code, library_type])\n",
      "        sub_maf = maf[maf.Tumor_Sample_Barcode.apply(lambda s: s.startswith(pat))]\n",
      "        if genes is not None:\n",
      "            sub_maf = sub_maf[sub_maf.Hugo_Symbol.isin(genes)]\n",
      "        sub_maf['Start_position_f'] = sub_maf['Start_position'].astype(float)\n",
      "        sub_maf['Chr_f'] = sub_maf['Chromosome'].replace('X', 23).astype(int)\n",
      "        sub_maf = sub_maf.sort(['Chr_f','Start_position_f'])\n",
      "        \n",
      "        call = ['echo running patient {} at `date`'.format(pat)]\n",
      "        call += data.mount(directory)\n",
      "        call += get_sam_call(data, sub_maf, directory, out)\n",
      "        call += data.unmount()\n",
      "        call = ';\\n'.join(call)\n",
      "        return call\n",
      "    return call_wrapper"
     ],
     "language": "python",
     "metadata": {},
     "outputs": [],
     "prompt_number": 8
    }
   ],
   "metadata": {}
  }
 ]
}